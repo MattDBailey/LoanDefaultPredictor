{
 "cells": [
  {
   "cell_type": "markdown",
   "id": "15386044",
   "metadata": {},
   "source": [
    "# Notebook to create a simple ML model and save as a file using the pickle package"
   ]
  },
  {
   "cell_type": "markdown",
   "id": "429e346d",
   "metadata": {},
   "source": [
    "### Import needed packages"
   ]
  },
  {
   "cell_type": "code",
   "execution_count": 21,
   "id": "908936a3",
   "metadata": {},
   "outputs": [],
   "source": [
    "import pandas as pd\n",
    "import numpy as np\n",
    "\n",
    "# import logistic regression classifier\n",
    "from sklearn.linear_model import LogisticRegression\n",
    "from sklearn.model_selection import train_test_split\n",
    "\n",
    "from sklearn.preprocessing import StandardScaler\n",
    "\n",
    "# import grid search and cross-validation\n",
    "from sklearn.model_selection import GridSearchCV\n",
    "\n",
    "# import auc metric\n",
    "from sklearn.metrics import roc_auc_score\n",
    "\n"
   ]
  },
  {
   "cell_type": "markdown",
   "id": "998d688d",
   "metadata": {},
   "source": [
    "### Read in the data"
   ]
  },
  {
   "cell_type": "code",
   "execution_count": 22,
   "id": "f99b4951",
   "metadata": {},
   "outputs": [
    {
     "data": {
      "text/html": [
       "<div>\n",
       "<style scoped>\n",
       "    .dataframe tbody tr th:only-of-type {\n",
       "        vertical-align: middle;\n",
       "    }\n",
       "\n",
       "    .dataframe tbody tr th {\n",
       "        vertical-align: top;\n",
       "    }\n",
       "\n",
       "    .dataframe thead th {\n",
       "        text-align: right;\n",
       "    }\n",
       "</style>\n",
       "<table border=\"1\" class=\"dataframe\">\n",
       "  <thead>\n",
       "    <tr style=\"text-align: right;\">\n",
       "      <th></th>\n",
       "      <th>home_ownership</th>\n",
       "      <th>income</th>\n",
       "      <th>dti</th>\n",
       "      <th>fico</th>\n",
       "      <th>loan_status</th>\n",
       "    </tr>\n",
       "  </thead>\n",
       "  <tbody>\n",
       "    <tr>\n",
       "      <th>0</th>\n",
       "      <td>1</td>\n",
       "      <td>44304.0</td>\n",
       "      <td>18.47</td>\n",
       "      <td>690</td>\n",
       "      <td>0</td>\n",
       "    </tr>\n",
       "    <tr>\n",
       "      <th>1</th>\n",
       "      <td>0</td>\n",
       "      <td>50000.0</td>\n",
       "      <td>29.62</td>\n",
       "      <td>735</td>\n",
       "      <td>1</td>\n",
       "    </tr>\n",
       "    <tr>\n",
       "      <th>2</th>\n",
       "      <td>0</td>\n",
       "      <td>64400.0</td>\n",
       "      <td>16.68</td>\n",
       "      <td>675</td>\n",
       "      <td>1</td>\n",
       "    </tr>\n",
       "    <tr>\n",
       "      <th>3</th>\n",
       "      <td>0</td>\n",
       "      <td>38500.0</td>\n",
       "      <td>33.73</td>\n",
       "      <td>660</td>\n",
       "      <td>0</td>\n",
       "    </tr>\n",
       "    <tr>\n",
       "      <th>4</th>\n",
       "      <td>1</td>\n",
       "      <td>118000.0</td>\n",
       "      <td>26.66</td>\n",
       "      <td>665</td>\n",
       "      <td>1</td>\n",
       "    </tr>\n",
       "    <tr>\n",
       "      <th>5</th>\n",
       "      <td>1</td>\n",
       "      <td>43000.0</td>\n",
       "      <td>20.68</td>\n",
       "      <td>725</td>\n",
       "      <td>1</td>\n",
       "    </tr>\n",
       "    <tr>\n",
       "      <th>6</th>\n",
       "      <td>0</td>\n",
       "      <td>76000.0</td>\n",
       "      <td>17.31</td>\n",
       "      <td>685</td>\n",
       "      <td>1</td>\n",
       "    </tr>\n",
       "    <tr>\n",
       "      <th>7</th>\n",
       "      <td>0</td>\n",
       "      <td>75000.0</td>\n",
       "      <td>22.34</td>\n",
       "      <td>700</td>\n",
       "      <td>1</td>\n",
       "    </tr>\n",
       "    <tr>\n",
       "      <th>8</th>\n",
       "      <td>1</td>\n",
       "      <td>156000.0</td>\n",
       "      <td>13.28</td>\n",
       "      <td>735</td>\n",
       "      <td>1</td>\n",
       "    </tr>\n",
       "    <tr>\n",
       "      <th>9</th>\n",
       "      <td>1</td>\n",
       "      <td>54000.0</td>\n",
       "      <td>19.00</td>\n",
       "      <td>660</td>\n",
       "      <td>0</td>\n",
       "    </tr>\n",
       "  </tbody>\n",
       "</table>\n",
       "</div>"
      ],
      "text/plain": [
       "   home_ownership    income    dti  fico  loan_status\n",
       "0               1   44304.0  18.47   690            0\n",
       "1               0   50000.0  29.62   735            1\n",
       "2               0   64400.0  16.68   675            1\n",
       "3               0   38500.0  33.73   660            0\n",
       "4               1  118000.0  26.66   665            1\n",
       "5               1   43000.0  20.68   725            1\n",
       "6               0   76000.0  17.31   685            1\n",
       "7               0   75000.0  22.34   700            1\n",
       "8               1  156000.0  13.28   735            1\n",
       "9               1   54000.0  19.00   660            0"
      ]
     },
     "execution_count": 22,
     "metadata": {},
     "output_type": "execute_result"
    }
   ],
   "source": [
    "lend_df = pd.read_csv('LendingClub_DataSet.csv')\n",
    "lend_df.head(10)"
   ]
  },
  {
   "cell_type": "code",
   "execution_count": 23,
   "id": "e6617ba4",
   "metadata": {},
   "outputs": [],
   "source": [
    "# Separate into predictors (X) and a SINGLE TARGET outcome (Y)\n",
    "X = lend_df.drop('loan_status', axis=1)\n",
    "y = lend_df.loan_status"
   ]
  },
  {
   "cell_type": "code",
   "execution_count": 24,
   "id": "fbf9209f",
   "metadata": {},
   "outputs": [],
   "source": [
    "# Create a train/test split\n",
    "X_train, X_test, y_train, y_test = train_test_split(X, y, random_state=42, train_size=.8)"
   ]
  },
  {
   "cell_type": "markdown",
   "id": "9074beba",
   "metadata": {},
   "source": [
    "### Use GridSearchCV to find a decent Logistic Regression Classifier for parameter search and with 5 folds"
   ]
  },
  {
   "cell_type": "code",
   "execution_count": 25,
   "id": "49b445a5",
   "metadata": {},
   "outputs": [
    {
     "name": "stdout",
     "output_type": "stream",
     "text": [
      "Fitting 5 folds for each of 14 candidates, totalling 70 fits\n",
      "Initial score: 0.65\n",
      "Best parameters from param_grid: {'C': 1000, 'penalty': 'l1', 'solver': 'liblinear'}\n"
     ]
    }
   ],
   "source": [
    "# Use GridSearchCV to find the best parameters for logistidc regression\n",
    "param_grid = {\n",
    "    'C': [0.001, 0.01, 0.1, 1, 10, 100, 1000],\n",
    "    'penalty': ['l1', 'l2'],\n",
    "    'solver': ['liblinear']\n",
    "}\n",
    "\n",
    "# Use GridSearchCV to find the best parameters for Logistic regression\n",
    "gridSearch_auc = GridSearchCV(estimator=LogisticRegression(random_state=1), param_grid=param_grid, cv=5, scoring='roc_auc', n_jobs=1, verbose=1)\n",
    "gridSearch_auc.fit(X_train, y_train)\n",
    "print('Initial score: {:.2f}'.format(gridSearch_auc.best_score_))\n",
    "print('Best parameters from param_grid: {}'.format(gridSearch_auc.best_params_))\n",
    "\n",
    "# Fit the model with the best parameters\n",
    "BestLogReg = gridSearch_auc.best_estimator_"
   ]
  },
  {
   "cell_type": "markdown",
   "id": "6af04139",
   "metadata": {},
   "source": [
    "### Model isn't great, but we're just building a simple model to illustrate the principle. We'll still check its performance on hold out test data"
   ]
  },
  {
   "cell_type": "code",
   "execution_count": 26,
   "id": "4eb1aa63",
   "metadata": {},
   "outputs": [
    {
     "name": "stdout",
     "output_type": "stream",
     "text": [
      "Test AUC: 0.62\n"
     ]
    }
   ],
   "source": [
    "# Check the auc using the test data\n",
    "test_pred_prob = BestLogReg.predict_proba(X_test)[:,1]\n",
    "test_auc = roc_auc_score(y_test, test_pred_prob)\n",
    "print('Test AUC: {:.2f}'.format(test_auc))"
   ]
  },
  {
   "cell_type": "markdown",
   "id": "eae89127",
   "metadata": {},
   "source": [
    "### Here's the cool stuff. Save the model you created as a file. Now you can apply it elsewhere without having to rebuild it or share the code and training data. \n",
    "### `lend_logistic_model.pkl` file is now in the folder where this file exists is now your model that you can share and open elsewhere"
   ]
  },
  {
   "cell_type": "code",
   "execution_count": null,
   "id": "5ad84246",
   "metadata": {},
   "outputs": [],
   "source": [
    "# Write a file of binary model ('wb') (=dump) to a file using pickle\n",
    "import pickle\n",
    "filename = 'lend_logistic_model.pkl'\n",
    "with open(filename, 'wb') as file:\n",
    "    pickle.dump(BestLogReg, file)"
   ]
  },
  {
   "cell_type": "markdown",
   "id": "1e517b33",
   "metadata": {},
   "source": [
    "### This code could be copied and (with the proper imports) to open your model file and apply it to any other data!"
   ]
  },
  {
   "cell_type": "code",
   "execution_count": 37,
   "id": "0acd1c24",
   "metadata": {},
   "outputs": [
    {
     "name": "stdout",
     "output_type": "stream",
     "text": [
      "Predicted probability of default: 0.08\n",
      "Predicted class: Not Default\n"
     ]
    }
   ],
   "source": [
    "# Open the file and load the model\n",
    "file_to_load = 'lend_logistic_model.pkl'\n",
    "with open(file_to_load, 'rb') as file:\n",
    "    loaded_model = pickle.load(file)\n",
    "\n",
    "# Create a new customer\n",
    "ownhome = 1  # 1 for own home, 0 for rent\n",
    "income = 80000  # annual income\n",
    "dti = 0.2  # debt-to-income ratio\n",
    "fico = 700  # FICO score\n",
    "\n",
    "# Create a dataframe for the new customer\n",
    "# Make sure the ORDER of the columns is the same as in the training data\n",
    "# Note: The column names should match the training data columns\n",
    "new_customer = pd.DataFrame({\n",
    "    'home_ownership': [ownhome],\n",
    "    'income': [income],\n",
    "    'dti': [dti],\n",
    "    'fico': [fico]\n",
    "})\n",
    "\n",
    "# Print the predicted probability of default\n",
    "predicted_prob = loaded_model.predict_proba(new_customer)[:, 0]\n",
    "print('Predicted probability of default: {:.2f}'.format(predicted_prob[0]))\n",
    "# Print the predicted class\n",
    "predicted_class = loaded_model.predict(new_customer)\n",
    "# print 'Predicted to Default' if predicted_class[0] == 1 else 'Predicted to not Default'\n",
    "if predicted_class[0] == 0:\n",
    "    print('Predicted class: Default')\n",
    "else:\n",
    "    print('Predicted class: Not Default')"
   ]
  }
 ],
 "metadata": {
  "kernelspec": {
   "display_name": "base",
   "language": "python",
   "name": "python3"
  },
  "language_info": {
   "codemirror_mode": {
    "name": "ipython",
    "version": 3
   },
   "file_extension": ".py",
   "mimetype": "text/x-python",
   "name": "python",
   "nbconvert_exporter": "python",
   "pygments_lexer": "ipython3",
   "version": "3.11.7"
  }
 },
 "nbformat": 4,
 "nbformat_minor": 5
}
